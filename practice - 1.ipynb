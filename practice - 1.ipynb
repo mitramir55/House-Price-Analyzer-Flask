{
 "cells": [
  {
   "cell_type": "code",
   "execution_count": 5,
   "metadata": {},
   "outputs": [],
   "source": [
    "\n",
    "import regex as re\n",
    "import pandas as pd\n",
    "import numpy as np\n",
    "from termcolor import colored\n",
    "from urllib.request import urlopen\n",
    "import json\n",
    "pd.set_option('display.max_columns', None)\n",
    "pd.set_option('display.max_colwidth', None)"
   ]
  },
  {
   "cell_type": "code",
   "execution_count": 2,
   "metadata": {},
   "outputs": [],
   "source": [
    "df = pd.read_csv(r'Dataset\\calgary_cleaned_rentals_dataset.csv')"
   ]
  },
  {
   "cell_type": "code",
   "execution_count": 6,
   "metadata": {},
   "outputs": [
    {
     "data": {
      "text/html": [
       "<div>\n",
       "<style scoped>\n",
       "    .dataframe tbody tr th:only-of-type {\n",
       "        vertical-align: middle;\n",
       "    }\n",
       "\n",
       "    .dataframe tbody tr th {\n",
       "        vertical-align: top;\n",
       "    }\n",
       "\n",
       "    .dataframe thead th {\n",
       "        text-align: right;\n",
       "    }\n",
       "</style>\n",
       "<table border=\"1\" class=\"dataframe\">\n",
       "  <thead>\n",
       "    <tr style=\"text-align: right;\">\n",
       "      <th></th>\n",
       "      <th>rented</th>\n",
       "      <th>availability</th>\n",
       "      <th>a</th>\n",
       "      <th>city</th>\n",
       "      <th>community</th>\n",
       "      <th>latitude</th>\n",
       "      <th>longitude</th>\n",
       "      <th>link</th>\n",
       "      <th>type</th>\n",
       "      <th>price</th>\n",
       "      <th>beds</th>\n",
       "      <th>sq_feet</th>\n",
       "      <th>baths</th>\n",
       "      <th>cats</th>\n",
       "      <th>dogs</th>\n",
       "      <th>sq_feet2</th>\n",
       "      <th>price2</th>\n",
       "      <th>beds2</th>\n",
       "      <th>baths2</th>\n",
       "      <th>utility_heat</th>\n",
       "      <th>utility_electricity</th>\n",
       "      <th>utility_water</th>\n",
       "      <th>utility_cable</th>\n",
       "      <th>utility_internet</th>\n",
       "    </tr>\n",
       "  </thead>\n",
       "  <tbody>\n",
       "    <tr>\n",
       "      <th>2</th>\n",
       "      <td>Not-Rented</td>\n",
       "      <td>Immediate</td>\n",
       "      <td>2000-01-01</td>\n",
       "      <td>Calgary</td>\n",
       "      <td>Cliff Bungalow</td>\n",
       "      <td>51.036696</td>\n",
       "      <td>-114.074492</td>\n",
       "      <td>/ab/calgary/rentals/apartment/studio/cliff-bungalow/357976</td>\n",
       "      <td>Apartment</td>\n",
       "      <td>525.0</td>\n",
       "      <td>studio</td>\n",
       "      <td>420</td>\n",
       "      <td>1</td>\n",
       "      <td>0</td>\n",
       "      <td>0</td>\n",
       "      <td>NaN</td>\n",
       "      <td>NaN</td>\n",
       "      <td>0</td>\n",
       "      <td>0.0</td>\n",
       "      <td>1</td>\n",
       "      <td>1</td>\n",
       "      <td>1</td>\n",
       "      <td>0</td>\n",
       "      <td>0</td>\n",
       "    </tr>\n",
       "  </tbody>\n",
       "</table>\n",
       "</div>"
      ],
      "text/plain": [
       "       rented availability           a     city       community   latitude  \\\n",
       "2  Not-Rented    Immediate  2000-01-01  Calgary  Cliff Bungalow  51.036696   \n",
       "\n",
       "    longitude                                                        link  \\\n",
       "2 -114.074492  /ab/calgary/rentals/apartment/studio/cliff-bungalow/357976   \n",
       "\n",
       "        type  price    beds sq_feet baths  cats  dogs sq_feet2  price2 beds2  \\\n",
       "2  Apartment  525.0  studio     420     1     0     0      NaN     NaN     0   \n",
       "\n",
       "   baths2  utility_heat  utility_electricity  utility_water  utility_cable  \\\n",
       "2     0.0             1                    1              1              0   \n",
       "\n",
       "   utility_internet  \n",
       "2                 0  "
      ]
     },
     "execution_count": 6,
     "metadata": {},
     "output_type": "execute_result"
    }
   ],
   "source": [
    "df[(~df.sq_feet.isna())&(df.sq_feet2.isna())].head(1)#['link'].values"
   ]
  },
  {
   "cell_type": "code",
   "execution_count": null,
   "metadata": {},
   "outputs": [],
   "source": []
  },
  {
   "cell_type": "code",
   "execution_count": 35,
   "metadata": {},
   "outputs": [],
   "source": [
    "df.dropna(subset=['price'], inplace=True)"
   ]
  },
  {
   "cell_type": "code",
   "execution_count": null,
   "metadata": {},
   "outputs": [],
   "source": []
  },
  {
   "cell_type": "code",
   "execution_count": 36,
   "metadata": {},
   "outputs": [
    {
     "data": {
      "text/plain": [
       "rented                    0\n",
       "availability             67\n",
       "a                         0\n",
       "city                      1\n",
       "community                 0\n",
       "latitude                  0\n",
       "longitude                 0\n",
       "link                      0\n",
       "type                      0\n",
       "price                     0\n",
       "beds                      0\n",
       "sq_feet                 568\n",
       "baths                     0\n",
       "cats                      0\n",
       "dogs                      0\n",
       "sq_feet2               2404\n",
       "price2                 2360\n",
       "beds2                     0\n",
       "baths2                    0\n",
       "utility_heat              0\n",
       "utility_electricity       0\n",
       "utility_water             0\n",
       "utility_cable             0\n",
       "utility_internet          0\n",
       "dtype: int64"
      ]
     },
     "execution_count": 36,
     "metadata": {},
     "output_type": "execute_result"
    }
   ],
   "source": [
    "df.isna().sum()#[['price', 'price2']]"
   ]
  },
  {
   "cell_type": "code",
   "execution_count": 32,
   "metadata": {},
   "outputs": [
    {
     "data": {
      "text/plain": [
       "2774"
      ]
     },
     "execution_count": 32,
     "metadata": {},
     "output_type": "execute_result"
    }
   ],
   "source": [
    "len(df)"
   ]
  },
  {
   "cell_type": "code",
   "execution_count": null,
   "metadata": {},
   "outputs": [],
   "source": []
  },
  {
   "cell_type": "code",
   "execution_count": null,
   "metadata": {},
   "outputs": [],
   "source": []
  },
  {
   "cell_type": "code",
   "execution_count": null,
   "metadata": {},
   "outputs": [],
   "source": []
  },
  {
   "cell_type": "code",
   "execution_count": null,
   "metadata": {},
   "outputs": [],
   "source": []
  },
  {
   "cell_type": "markdown",
   "metadata": {},
   "source": [
    "### practice on data"
   ]
  },
  {
   "cell_type": "code",
   "execution_count": null,
   "metadata": {},
   "outputs": [],
   "source": [
    "def get_json(url):\n",
    "    url = url.replace(\" \", \"%20\")\n",
    "    response = urlopen(url)\n",
    "    data_json = json.loads(response.read())\n",
    "    return data_json"
   ]
  },
  {
   "cell_type": "code",
   "execution_count": null,
   "metadata": {},
   "outputs": [
    {
     "name": "stdout",
     "output_type": "stream",
     "text": [
      "Number of this section's unique ids =  500\n",
      "Number of all unique ids =  500\n",
      "My search =  {'cities': 'calgary', 'type': ['Apartment'], 'price_range_adv': {'from': 'null', 'to': 'null'}}\n",
      "Number of this section's unique ids =  728\n",
      "Number of all unique ids =  728\n",
      "My search =  {'cities': 'calgary', 'type': ['Shared'], 'price_range_adv': {'from': 'null', 'to': 'null'}}\n",
      "Number of this section's unique ids =  1061\n",
      "Number of all unique ids =  1061\n",
      "My search =  {'cities': 'calgary', 'type': ['Basement'], 'price_range_adv': {'from': 'null', 'to': 'null'}}\n",
      "Number of this section's unique ids =  1561\n",
      "Number of all unique ids =  1561\n",
      "My search =  {'cities': 'calgary', 'type': ['Condo'], 'price_range_adv': {'from': 'null', 'to': 'null'}}\n",
      "Number of this section's unique ids =  1571\n",
      "Number of all unique ids =  1571\n",
      "My search =  {'cities': 'calgary', 'type': ['Loft'], 'price_range_adv': {'from': 'null', 'to': 'null'}}\n",
      "Number of this section's unique ids =  1848\n",
      "Number of all unique ids =  1848\n",
      "My search =  {'cities': 'calgary', 'type': ['House'], 'price_range_adv': {'from': 'null', 'to': 'null'}}\n",
      "Number of this section's unique ids =  1994\n",
      "Number of all unique ids =  1994\n",
      "My search =  {'cities': 'calgary', 'type': ['Main Floor'], 'price_range_adv': {'from': 'null', 'to': 'null'}}\n",
      "Number of this section's unique ids =  2213\n",
      "Number of all unique ids =  2213\n",
      "My search =  {'cities': 'calgary', 'type': ['Townhouse'], 'price_range_adv': {'from': 'null', 'to': 'null'}}\n"
     ]
    }
   ],
   "source": [
    "num_beds = '' # a digit or ''\n",
    "num_baths = ''\n",
    "min_price = ''\n",
    "max_price = ''\n",
    "available_in = ''\n",
    "city = 'calgary'\n",
    "types = [\n",
    "    'Apartment', 'Shared', 'Basement', 'Condo',\n",
    "    'Loft', 'House', 'Main Floor', 'Townhouse'\n",
    "    ]\n",
    "# if the result was 500 lines, start searching about the range of prices\n",
    "\n",
    "df = pd.DataFrame()\n",
    "for type in types: \n",
    "\n",
    "    custom_url = f'https://www.rentfaster.ca/api/map.json?cities={city}&type={type}&price_range_adv[from]=null&price_range_adv[to]=null'\n",
    "    \n",
    "    data_json = get_json(custom_url)\n",
    "    listings = data_json['listings']\n",
    "    df_subset = pd.DataFrame(listings)\n",
    "    df = pd.concat([df, df_subset], axis=0)\n",
    "\n",
    "    # print('Unique ids = ', (df.id.unique()))\n",
    "    print(\"Number of this section's unique ids = \", len(df.id.unique()))\n",
    "    print('Number of all unique ids = ', len(df.id.unique()))\n",
    "\n",
    "    if 'search' in data_json.keys(): print('My search = ', data_json['search'])\n",
    "    if 'query' in data_json.keys(): print('My query = ', data_json['query'])"
   ]
  },
  {
   "cell_type": "code",
   "execution_count": null,
   "metadata": {},
   "outputs": [
    {
     "data": {
      "text/plain": [
       "0"
      ]
     },
     "metadata": {},
     "output_type": "display_data"
    }
   ],
   "source": [
    "df_total = pd.DataFrame()\n",
    "len(df_total)"
   ]
  },
  {
   "cell_type": "code",
   "execution_count": null,
   "metadata": {},
   "outputs": [],
   "source": [
    "types = [\n",
    "    'Apartment', 'Shared', 'Basement', 'Condo',\n",
    "    'Loft', 'House', 'Main Floor', 'Townhouse'\n",
    "    ]\n",
    "price_ranges = [\n",
    "    (100, 600), (600, 1000), (1000, 1500), (1500, 2000), (2000, 3000), (3000, 4000), (4000, 5000)\n",
    "    ]\n",
    "def scrape_data(city='calgary', types=types, price_ranges=price_ranges):\n",
    "    df_total = pd.DataFrame()\n",
    "\n",
    "    for type in types:\n",
    "\n",
    "        url = f'https://www.rentfaster.ca/api/map.json?cities={city}&type={type}'\n",
    "        \n",
    "        # scrape based on residence type\n",
    "        print('\\nQuerying based on residence type ', colored(f'{type}', 'blue'))\n",
    "\n",
    "        data_json = get_json(url)\n",
    "        listings = data_json['listings']\n",
    "        df_subset = pd.DataFrame(listings)\n",
    "\n",
    "        len_subset_ids = len(df_subset.id.unique())\n",
    "        print(\"Section unique ids = \", len_subset_ids)\n",
    "\n",
    "        print('My search = ', data_json['search'])\n",
    "\n",
    "        if len_subset_ids==500:\n",
    "            print(colored('More than 500 records!', 'red'))\n",
    "\n",
    "            for (s, e) in price_ranges:\n",
    "                url = f'https://www.rentfaster.ca/api/map.json?cities={city}&type={type}&price_range_adv[from]={s}&price_range_adv[to]={e}'\n",
    "\n",
    "                \n",
    "                print('Querying based on range ', colored(f'{s} to {e}', 'green'))\n",
    "                if len(df_total)!=0: print(' -- All unique ids = ', len(df_total.id.unique()))\n",
    "\n",
    "                data_json = get_json(url)\n",
    "                listings = data_json['listings']\n",
    "                df_subset = pd.DataFrame(listings)\n",
    "                df_total = pd.concat([df_total, df_subset], axis=0)\n",
    "        else:\n",
    "            df_total = pd.concat([df_total, df_subset], axis=0)\n",
    "            print('All unique ids = ', len(df_total.id.unique()))\n",
    "\n",
    "    return df_total\n",
    "df = scrape_data(city='calgary', types=types)"
   ]
  },
  {
   "cell_type": "code",
   "execution_count": null,
   "metadata": {},
   "outputs": [
    {
     "data": {
      "text/plain": [
       "2856"
      ]
     },
     "metadata": {},
     "output_type": "display_data"
    }
   ],
   "source": [
    "len(df)"
   ]
  },
  {
   "cell_type": "code",
   "execution_count": null,
   "metadata": {},
   "outputs": [],
   "source": []
  },
  {
   "cell_type": "code",
   "execution_count": null,
   "metadata": {},
   "outputs": [
    {
     "name": "stdout",
     "output_type": "stream",
     "text": [
      "\n",
      "Querying based on residence type  \u001b[34mApartment\u001b[0m\n",
      "Section unique ids =  500\n",
      "My search =  {'cities': 'calgary', 'type': ['Apartment']}\n",
      "\u001b[31mMore than 500 records!\u001b[0m\n",
      "Querying based on range  \u001b[32m100 to 600\u001b[0m\n",
      "Querying based on range  \u001b[32m600 to 1000\u001b[0m\n",
      " -- All unique ids =  4\n",
      "Querying based on range  \u001b[32m1000 to 1500\u001b[0m\n",
      " -- All unique ids =  181\n",
      "Querying based on range  \u001b[32m1500 to 2000\u001b[0m\n",
      " -- All unique ids =  548\n",
      "Querying based on range  \u001b[32m2000 to 3000\u001b[0m\n",
      " -- All unique ids =  663\n",
      "Querying based on range  \u001b[32m3000 to 4000\u001b[0m\n",
      " -- All unique ids =  681\n",
      "Querying based on range  \u001b[32m4000 to 5000\u001b[0m\n",
      " -- All unique ids =  683\n",
      "\n",
      "Querying based on residence type  \u001b[34mShared\u001b[0m\n",
      "Section unique ids =  229\n",
      "All unique ids =  684\n",
      "My search =  {'cities': 'calgary', 'type': ['Shared']}\n",
      "\n",
      "Querying based on residence type  \u001b[34mBasement\u001b[0m\n",
      "Section unique ids =  335\n",
      "All unique ids =  913\n",
      "My search =  {'cities': 'calgary', 'type': ['Basement']}\n",
      "\n",
      "Querying based on residence type  \u001b[34mCondo\u001b[0m\n",
      "Section unique ids =  500\n",
      "All unique ids =  1246\n",
      "My search =  {'cities': 'calgary', 'type': ['Condo']}\n",
      "\u001b[31mMore than 500 records!\u001b[0m\n",
      "Querying based on range  \u001b[32m100 to 600\u001b[0m\n",
      " -- All unique ids =  1246\n",
      "Querying based on range  \u001b[32m600 to 1000\u001b[0m\n",
      " -- All unique ids =  1246\n",
      "Querying based on range  \u001b[32m1000 to 1500\u001b[0m\n",
      " -- All unique ids =  1252\n",
      "Querying based on range  \u001b[32m1500 to 2000\u001b[0m\n",
      " -- All unique ids =  1471\n",
      "Querying based on range  \u001b[32m2000 to 3000\u001b[0m\n",
      " -- All unique ids =  1759\n",
      "Querying based on range  \u001b[32m3000 to 4000\u001b[0m\n",
      " -- All unique ids =  1878\n",
      "Querying based on range  \u001b[32m4000 to 5000\u001b[0m\n",
      " -- All unique ids =  1898\n",
      "\n",
      "Querying based on residence type  \u001b[34mLoft\u001b[0m\n",
      "Section unique ids =  11\n",
      "All unique ids =  1910\n",
      "My search =  {'cities': 'calgary', 'type': ['Loft']}\n",
      "\n",
      "Querying based on residence type  \u001b[34mHouse\u001b[0m\n",
      "Section unique ids =  277\n",
      "All unique ids =  1920\n",
      "My search =  {'cities': 'calgary', 'type': ['House']}\n",
      "\n",
      "Querying based on residence type  \u001b[34mMain Floor\u001b[0m\n",
      "Section unique ids =  146\n",
      "All unique ids =  2197\n",
      "My search =  {'cities': 'calgary', 'type': ['Main Floor']}\n",
      "\n",
      "Querying based on residence type  \u001b[34mTownhouse\u001b[0m\n",
      "Section unique ids =  223\n",
      "All unique ids =  2343\n",
      "My search =  {'cities': 'calgary', 'type': ['Townhouse']}\n"
     ]
    }
   ],
   "source": [
    "df = scrape_data(city='calgary', types=types)"
   ]
  },
  {
   "cell_type": "code",
   "execution_count": null,
   "metadata": {},
   "outputs": [
    {
     "name": "stdout",
     "output_type": "stream",
     "text": [
      "Number of this section's unique ids =  4\n",
      "Number of all unique ids =  4\n",
      "My search =  {'cities': 'calgary', 'type': ['Apartment'], 'price_range_adv': {'from': '200', 'to': '600'}}\n",
      "Number of this section's unique ids =  182\n",
      "Number of all unique ids =  186\n",
      "My search =  {'cities': 'calgary', 'type': ['Apartment'], 'price_range_adv': {'from': '600', 'to': '1000'}}\n",
      "Number of this section's unique ids =  454\n",
      "Number of all unique ids =  560\n",
      "My search =  {'cities': 'calgary', 'type': ['Apartment'], 'price_range_adv': {'from': '1000', 'to': '1500'}}\n",
      "Number of this section's unique ids =  205\n",
      "Number of all unique ids =  679\n",
      "My search =  {'cities': 'calgary', 'type': ['Apartment'], 'price_range_adv': {'from': '1500', 'to': '2000'}}\n",
      "Number of this section's unique ids =  70\n",
      "Number of all unique ids =  698\n",
      "My search =  {'cities': 'calgary', 'type': ['Apartment'], 'price_range_adv': {'from': '2000', 'to': '3000'}}\n",
      "Number of this section's unique ids =  13\n",
      "Number of all unique ids =  700\n",
      "My search =  {'cities': 'calgary', 'type': ['Apartment'], 'price_range_adv': {'from': '3000', 'to': '4000'}}\n"
     ]
    }
   ],
   "source": [
    "num_beds = '' # a digit or ''\n",
    "num_baths = ''\n",
    "min_price = ''\n",
    "max_price = ''\n",
    "available_in = ''\n",
    "various_ranges = [\n",
    "    (200,600), (600, 1000), (1000, 1500), (1500, 2000), (2000, 3000), (3000, 4000), (4000, 5000)\n",
    "    ]\n",
    "type = 'Apartment'\n",
    "city = 'calgary'\n",
    "\n",
    "df_apartment = pd.DataFrame()\n",
    "for (s, e) in various_ranges: \n",
    "\n",
    "    custom_url = f'https://www.rentfaster.ca/api/map.json?cities={city}&type={type}&price_range_adv[from]={s}&price_range_adv[to]={e}'\n",
    "    \n",
    "    data_json = get_json(custom_url)\n",
    "    listings = data_json['listings']\n",
    "    df_subset = pd.DataFrame(listings)\n",
    "    df_apartment = pd.concat([df_apartment, df_subset], axis=0)\n",
    "\n",
    "    # print('Unique ids = ', (df.id.unique()))\n",
    "    print(\"Number of this section's unique ids = \", len(df_subset.id.unique()))\n",
    "    print('Number of all unique ids = ', len(df_apartment.id.unique()))\n",
    "\n",
    "    if 'search' in data_json.keys(): print('My search = ', data_json['search'])\n",
    "    if 'query' in data_json.keys(): print('My query = ', data_json['query'])"
   ]
  },
  {
   "cell_type": "code",
   "execution_count": 39,
   "metadata": {},
   "outputs": [
    {
     "data": {
      "text/plain": [
       "Index(['ref_id', 'id', 'userId', 'rented', 'phone', 'phone_2', 'email',\n",
       "       'availability', 'a', 'v', 'f', 's', 'intro', 'city', 'community',\n",
       "       'latitude', 'longitude', 'marker', 'link', 'thumb2',\n",
       "       'preferred_contact', 'type', 'price', 'beds', 'sq_feet', 'baths',\n",
       "       'cats', 'dogs', 'utilities_included', 'title', 'sq_feet2', 'price2',\n",
       "       'beds2', 'baths2'],\n",
       "      dtype='object')"
      ]
     },
     "execution_count": 39,
     "metadata": {},
     "output_type": "execute_result"
    }
   ],
   "source": [
    "df_apartment.columns"
   ]
  },
  {
   "cell_type": "code",
   "execution_count": 46,
   "metadata": {},
   "outputs": [
    {
     "data": {
      "text/plain": [
       "Index(['ref_id', 'id', 'userId', 'rented', 'phone', 'phone_2', 'email',\n",
       "       'availability', 'a', 'v', 'f', 's', 'title', 'intro', 'city',\n",
       "       'community', 'latitude', 'longitude', 'marker', 'link', 'thumb2',\n",
       "       'preferred_contact', 'type', 'price', 'price2', 'beds', 'beds2',\n",
       "       'sq_feet', 'sq_feet2', 'baths', 'baths2', 'cats', 'dogs',\n",
       "       'utilities_included'],\n",
       "      dtype='object')"
      ]
     },
     "execution_count": 46,
     "metadata": {},
     "output_type": "execute_result"
    }
   ],
   "source": [
    "df.columns"
   ]
  },
  {
   "cell_type": "code",
   "execution_count": 50,
   "metadata": {},
   "outputs": [
    {
     "data": {
      "text/plain": [
       "928"
      ]
     },
     "execution_count": 50,
     "metadata": {},
     "output_type": "execute_result"
    }
   ],
   "source": [
    "len(df_apartment)"
   ]
  },
  {
   "cell_type": "code",
   "execution_count": 51,
   "metadata": {},
   "outputs": [
    {
     "data": {
      "text/plain": [
       "3148"
      ]
     },
     "execution_count": 51,
     "metadata": {},
     "output_type": "execute_result"
    }
   ],
   "source": [
    "len(df_concat)"
   ]
  },
  {
   "cell_type": "code",
   "execution_count": null,
   "metadata": {},
   "outputs": [],
   "source": []
  },
  {
   "cell_type": "code",
   "execution_count": 74,
   "metadata": {},
   "outputs": [],
   "source": [
    "df = convert_utilities_col(df)"
   ]
  },
  {
   "cell_type": "code",
   "execution_count": null,
   "metadata": {},
   "outputs": [],
   "source": []
  },
  {
   "cell_type": "code",
   "execution_count": 16,
   "metadata": {},
   "outputs": [
    {
     "data": {
      "text/plain": [
       "2276"
      ]
     },
     "execution_count": 16,
     "metadata": {},
     "output_type": "execute_result"
    }
   ],
   "source": [
    "len(df.id.unique())"
   ]
  },
  {
   "cell_type": "code",
   "execution_count": 73,
   "metadata": {},
   "outputs": [],
   "source": [
    "def convert_utilities_col(df):\n",
    "    df.loc[:, 'utility_heat'] = df.loc[:, 'utilities_included'].apply(lambda x: 1 if 'Heat' in x else 0)\n",
    "    df.loc[:, 'utility_electricity'] = df.loc[:, 'utilities_included'].apply(lambda x: 1 if 'Electricity' in x else 0)\n",
    "    df.loc[:, 'utility_water'] = df.loc[:, 'utilities_included'].apply(lambda x: 1 if 'Water' in x else 0)\n",
    "    df.loc[:, 'utility_cable'] = df.loc[:, 'utilities_included'].apply(lambda x: 1 if 'Cable' in x else 0)\n",
    "    df.loc[:, 'utility_internet'] = df.loc[:, 'utilities_included'].apply(lambda x: 1 if 'Internet' in x else 0)\n",
    "\n",
    "    df.drop(columns=['utilities_included'], inplace=True)\n",
    "    return df\n"
   ]
  },
  {
   "cell_type": "code",
   "execution_count": 21,
   "metadata": {},
   "outputs": [],
   "source": [
    "df.drop_duplicates(inplace=True)"
   ]
  },
  {
   "cell_type": "code",
   "execution_count": 17,
   "metadata": {},
   "outputs": [],
   "source": [
    "\n",
    "\n",
    "\n",
    "    "
   ]
  },
  {
   "cell_type": "code",
   "execution_count": 15,
   "metadata": {},
   "outputs": [
    {
     "data": {
      "text/plain": [
       "2283"
      ]
     },
     "execution_count": 15,
     "metadata": {},
     "output_type": "execute_result"
    }
   ],
   "source": [
    "len(total_df.drop(columns=['utilities_included']).drop_duplicates())"
   ]
  },
  {
   "cell_type": "code",
   "execution_count": null,
   "metadata": {},
   "outputs": [],
   "source": [
    "\n",
    "cols_to_drop = ['phone', 'phone_2', 'f', 's', 'title',\n",
    "                'intro', 'userId', 'id', 'ref_id',\n",
    "                'v', 'thumb2','link', 'marker', 'preferred_contact'\n",
    "                ]\n",
    "                \n",
    "def drop_unwanted_cols(df, cols=cols_to_drop):\n",
    "    all_columns = df.columns\n",
    "    for col in cols:\n",
    "        if col in all_columns:\n",
    "            df.drop(columns=[col], inplace=True)\n",
    "    return df"
   ]
  },
  {
   "cell_type": "code",
   "execution_count": 26,
   "metadata": {},
   "outputs": [],
   "source": [
    "\n",
    "\n",
    "df.drop(columns=cols_to_drop, inplace=True)"
   ]
  },
  {
   "cell_type": "code",
   "execution_count": 29,
   "metadata": {},
   "outputs": [],
   "source": [
    "df = convert_utilities_col(df)\n",
    "df.dropna(subset=['sq_feet', 'type', 'price'], inplace=True)\n",
    "df.fillna(0, inplace=True)"
   ]
  },
  {
   "cell_type": "code",
   "execution_count": 26,
   "metadata": {},
   "outputs": [],
   "source": []
  },
  {
   "cell_type": "code",
   "execution_count": 27,
   "metadata": {},
   "outputs": [
    {
     "data": {
      "text/plain": [
       "rented                    0\n",
       "email                     0\n",
       "availability              0\n",
       "a                         0\n",
       "title                  2247\n",
       "city                      0\n",
       "community                 0\n",
       "latitude                  0\n",
       "longitude                 0\n",
       "type                      0\n",
       "price                     0\n",
       "price2                 2051\n",
       "beds                      0\n",
       "beds2                  2092\n",
       "sq_feet                   0\n",
       "sq_feet2               2110\n",
       "baths                     0\n",
       "baths2                 2203\n",
       "cats                      0\n",
       "dogs                      0\n",
       "utility_heat              0\n",
       "utility_electricity       0\n",
       "utility_water             0\n",
       "utility_cable             0\n",
       "utility_internet          0\n",
       "dtype: int64"
      ]
     },
     "execution_count": 27,
     "metadata": {},
     "output_type": "execute_result"
    }
   ],
   "source": [
    "df.isna().sum()\n"
   ]
  },
  {
   "cell_type": "code",
   "execution_count": null,
   "metadata": {},
   "outputs": [],
   "source": []
  },
  {
   "cell_type": "code",
   "execution_count": 31,
   "metadata": {},
   "outputs": [],
   "source": []
  },
  {
   "cell_type": "code",
   "execution_count": 34,
   "metadata": {},
   "outputs": [],
   "source": []
  },
  {
   "cell_type": "code",
   "execution_count": 39,
   "metadata": {},
   "outputs": [
    {
     "data": {
      "text/plain": [
       "False"
      ]
     },
     "execution_count": 39,
     "metadata": {},
     "output_type": "execute_result"
    }
   ],
   "source": [
    "len(df) == len(df.drop_duplicates())"
   ]
  },
  {
   "cell_type": "code",
   "execution_count": 42,
   "metadata": {},
   "outputs": [],
   "source": [
    "df.drop_duplicates(inplace=True)\n",
    "df.reset_index(inplace=True)"
   ]
  },
  {
   "cell_type": "code",
   "execution_count": 44,
   "metadata": {},
   "outputs": [
    {
     "data": {
      "text/html": [
       "<div>\n",
       "<style scoped>\n",
       "    .dataframe tbody tr th:only-of-type {\n",
       "        vertical-align: middle;\n",
       "    }\n",
       "\n",
       "    .dataframe tbody tr th {\n",
       "        vertical-align: top;\n",
       "    }\n",
       "\n",
       "    .dataframe thead th {\n",
       "        text-align: right;\n",
       "    }\n",
       "</style>\n",
       "<table border=\"1\" class=\"dataframe\">\n",
       "  <thead>\n",
       "    <tr style=\"text-align: right;\">\n",
       "      <th></th>\n",
       "      <th>index</th>\n",
       "      <th>ref_id</th>\n",
       "      <th>id</th>\n",
       "      <th>userId</th>\n",
       "      <th>rented</th>\n",
       "      <th>phone</th>\n",
       "      <th>phone_2</th>\n",
       "      <th>email</th>\n",
       "      <th>availability</th>\n",
       "      <th>a</th>\n",
       "      <th>v</th>\n",
       "      <th>f</th>\n",
       "      <th>s</th>\n",
       "      <th>eid</th>\n",
       "      <th>intro</th>\n",
       "      <th>city</th>\n",
       "      <th>community</th>\n",
       "      <th>latitude</th>\n",
       "      <th>longitude</th>\n",
       "      <th>marker</th>\n",
       "      <th>link</th>\n",
       "      <th>thumb2</th>\n",
       "      <th>preferred_contact</th>\n",
       "      <th>type</th>\n",
       "      <th>price</th>\n",
       "      <th>beds</th>\n",
       "      <th>sq_feet</th>\n",
       "      <th>baths</th>\n",
       "      <th>cats</th>\n",
       "      <th>dogs</th>\n",
       "      <th>utility_heat</th>\n",
       "      <th>utility_electricity</th>\n",
       "      <th>utility_water</th>\n",
       "      <th>utility_cable</th>\n",
       "      <th>utility_internet</th>\n",
       "    </tr>\n",
       "  </thead>\n",
       "  <tbody>\n",
       "    <tr>\n",
       "      <th>0</th>\n",
       "      <td>0</td>\n",
       "      <td>377368</td>\n",
       "      <td>377368</td>\n",
       "      <td>25428</td>\n",
       "      <td>Not-Rented</td>\n",
       "      <td>4035080684</td>\n",
       "      <td></td>\n",
       "      <td>True</td>\n",
       "      <td>Immediate</td>\n",
       "      <td>2000-01-01</td>\n",
       "      <td>1</td>\n",
       "      <td>0</td>\n",
       "      <td>RSYNC</td>\n",
       "      <td>377368</td>\n",
       "      <td>3520 31 St. NW</td>\n",
       "      <td>Calgary</td>\n",
       "      <td>Brentwood</td>\n",
       "      <td>51.084169</td>\n",
       "      <td>-114.128718</td>\n",
       "      <td>00fb1aee1575c135383933289fff598f</td>\n",
       "      <td>/ab/calgary/rentals/apartment/1-bedroom/brentw...</td>\n",
       "      <td>https://f1a3d4fea3a9a877e732-356deb4d9644d2835...</td>\n",
       "      <td>Phone||Text||Email</td>\n",
       "      <td>Apartment</td>\n",
       "      <td>2305</td>\n",
       "      <td>none</td>\n",
       "      <td>527</td>\n",
       "      <td>1</td>\n",
       "      <td>2.0</td>\n",
       "      <td>2.0</td>\n",
       "      <td>1</td>\n",
       "      <td>1</td>\n",
       "      <td>1</td>\n",
       "      <td>0</td>\n",
       "      <td>0</td>\n",
       "    </tr>\n",
       "  </tbody>\n",
       "</table>\n",
       "</div>"
      ],
      "text/plain": [
       "   index  ref_id      id  userId      rented       phone phone_2  email  \\\n",
       "0      0  377368  377368   25428  Not-Rented  4035080684           True   \n",
       "\n",
       "  availability           a  v  f      s     eid           intro     city  \\\n",
       "0    Immediate  2000-01-01  1  0  RSYNC  377368  3520 31 St. NW  Calgary   \n",
       "\n",
       "   community   latitude   longitude                            marker  \\\n",
       "0  Brentwood  51.084169 -114.128718  00fb1aee1575c135383933289fff598f   \n",
       "\n",
       "                                                link  \\\n",
       "0  /ab/calgary/rentals/apartment/1-bedroom/brentw...   \n",
       "\n",
       "                                              thumb2   preferred_contact  \\\n",
       "0  https://f1a3d4fea3a9a877e732-356deb4d9644d2835...  Phone||Text||Email   \n",
       "\n",
       "        type price  beds sq_feet baths  cats  dogs  utility_heat  \\\n",
       "0  Apartment  2305  none     527     1   2.0   2.0             1   \n",
       "\n",
       "   utility_electricity  utility_water  utility_cable  utility_internet  \n",
       "0                    1              1              0                 0  "
      ]
     },
     "execution_count": 44,
     "metadata": {},
     "output_type": "execute_result"
    }
   ],
   "source": [
    "df.head(1)"
   ]
  },
  {
   "cell_type": "code",
   "execution_count": 47,
   "metadata": {},
   "outputs": [],
   "source": []
  },
  {
   "cell_type": "code",
   "execution_count": 45,
   "metadata": {},
   "outputs": [],
   "source": [
    "not_int = []\n",
    "for i in range(len(df)):\n",
    "    try: int(df.loc[i, 'sq_feet'])\n",
    "    except: not_int.append(i)\n",
    "\n",
    "df.drop(not_int, inplace=True)\n",
    "df.reset_index(inplace=True)"
   ]
  },
  {
   "cell_type": "code",
   "execution_count": 48,
   "metadata": {},
   "outputs": [],
   "source": [
    "df.fillna(0, inplace=True)"
   ]
  },
  {
   "cell_type": "code",
   "execution_count": null,
   "metadata": {},
   "outputs": [],
   "source": [
    "df.loc[:, 'price'] = df.loc[:, 'price'].apply(lambda x: int(x))"
   ]
  },
  {
   "cell_type": "code",
   "execution_count": null,
   "metadata": {},
   "outputs": [],
   "source": []
  },
  {
   "cell_type": "code",
   "execution_count": null,
   "metadata": {},
   "outputs": [],
   "source": []
  },
  {
   "cell_type": "code",
   "execution_count": null,
   "metadata": {},
   "outputs": [],
   "source": []
  },
  {
   "cell_type": "code",
   "execution_count": null,
   "metadata": {},
   "outputs": [],
   "source": []
  },
  {
   "cell_type": "markdown",
   "metadata": {},
   "source": [
    "### Practice .1\n"
   ]
  },
  {
   "cell_type": "code",
   "execution_count": 1,
   "metadata": {},
   "outputs": [
    {
     "data": {
      "text/html": [
       "<div>\n",
       "<style scoped>\n",
       "    .dataframe tbody tr th:only-of-type {\n",
       "        vertical-align: middle;\n",
       "    }\n",
       "\n",
       "    .dataframe tbody tr th {\n",
       "        vertical-align: top;\n",
       "    }\n",
       "\n",
       "    .dataframe thead th {\n",
       "        text-align: right;\n",
       "    }\n",
       "</style>\n",
       "<table border=\"1\" class=\"dataframe\">\n",
       "  <thead>\n",
       "    <tr style=\"text-align: right;\">\n",
       "      <th></th>\n",
       "      <th>area</th>\n",
       "      <th>bedroom</th>\n",
       "      <th>first_i_school_dist</th>\n",
       "      <th>first_mrt_dist</th>\n",
       "      <th>first_p_school_dist</th>\n",
       "      <th>price</th>\n",
       "      <th>psf</th>\n",
       "      <th>sec_i_school_dist</th>\n",
       "      <th>sec_mrt_dist</th>\n",
       "      <th>sec_p_school_dist</th>\n",
       "      <th>...</th>\n",
       "      <th>count</th>\n",
       "      <th>dist_to_shops</th>\n",
       "      <th>dist_to_foodcourt</th>\n",
       "      <th>dist_to_supermarket</th>\n",
       "      <th>dist_to_downtown</th>\n",
       "      <th>apartment</th>\n",
       "      <th>bungalow</th>\n",
       "      <th>condominium</th>\n",
       "      <th>hdb</th>\n",
       "      <th>terrace_house</th>\n",
       "    </tr>\n",
       "  </thead>\n",
       "  <tbody>\n",
       "    <tr>\n",
       "      <th>0</th>\n",
       "      <td>3009</td>\n",
       "      <td>4</td>\n",
       "      <td>0.49</td>\n",
       "      <td>0.57</td>\n",
       "      <td>0.82</td>\n",
       "      <td>5300</td>\n",
       "      <td>1.76</td>\n",
       "      <td>3.86</td>\n",
       "      <td>1.21</td>\n",
       "      <td>1.39</td>\n",
       "      <td>...</td>\n",
       "      <td>1</td>\n",
       "      <td>1.428765</td>\n",
       "      <td>2.134875</td>\n",
       "      <td>0.985758</td>\n",
       "      <td>14.407814</td>\n",
       "      <td>0</td>\n",
       "      <td>0</td>\n",
       "      <td>0</td>\n",
       "      <td>0</td>\n",
       "      <td>1</td>\n",
       "    </tr>\n",
       "    <tr>\n",
       "      <th>1</th>\n",
       "      <td>3009</td>\n",
       "      <td>4</td>\n",
       "      <td>0.49</td>\n",
       "      <td>0.57</td>\n",
       "      <td>0.82</td>\n",
       "      <td>5300</td>\n",
       "      <td>1.76</td>\n",
       "      <td>3.86</td>\n",
       "      <td>1.21</td>\n",
       "      <td>1.39</td>\n",
       "      <td>...</td>\n",
       "      <td>1</td>\n",
       "      <td>1.428765</td>\n",
       "      <td>2.134875</td>\n",
       "      <td>0.985758</td>\n",
       "      <td>14.407814</td>\n",
       "      <td>0</td>\n",
       "      <td>0</td>\n",
       "      <td>0</td>\n",
       "      <td>0</td>\n",
       "      <td>1</td>\n",
       "    </tr>\n",
       "    <tr>\n",
       "      <th>2</th>\n",
       "      <td>970</td>\n",
       "      <td>2</td>\n",
       "      <td>1.54</td>\n",
       "      <td>0.54</td>\n",
       "      <td>0.80</td>\n",
       "      <td>4000</td>\n",
       "      <td>4.12</td>\n",
       "      <td>1.82</td>\n",
       "      <td>0.61</td>\n",
       "      <td>1.47</td>\n",
       "      <td>...</td>\n",
       "      <td>1</td>\n",
       "      <td>0.633214</td>\n",
       "      <td>0.136767</td>\n",
       "      <td>0.244170</td>\n",
       "      <td>1.716227</td>\n",
       "      <td>0</td>\n",
       "      <td>0</td>\n",
       "      <td>1</td>\n",
       "      <td>0</td>\n",
       "      <td>0</td>\n",
       "    </tr>\n",
       "    <tr>\n",
       "      <th>3</th>\n",
       "      <td>1970</td>\n",
       "      <td>2</td>\n",
       "      <td>1.54</td>\n",
       "      <td>0.54</td>\n",
       "      <td>0.80</td>\n",
       "      <td>5200</td>\n",
       "      <td>2.64</td>\n",
       "      <td>1.82</td>\n",
       "      <td>0.61</td>\n",
       "      <td>1.47</td>\n",
       "      <td>...</td>\n",
       "      <td>1</td>\n",
       "      <td>0.633214</td>\n",
       "      <td>0.136767</td>\n",
       "      <td>0.244170</td>\n",
       "      <td>1.716227</td>\n",
       "      <td>0</td>\n",
       "      <td>0</td>\n",
       "      <td>1</td>\n",
       "      <td>0</td>\n",
       "      <td>0</td>\n",
       "    </tr>\n",
       "    <tr>\n",
       "      <th>4</th>\n",
       "      <td>1044</td>\n",
       "      <td>2</td>\n",
       "      <td>1.29</td>\n",
       "      <td>0.82</td>\n",
       "      <td>0.37</td>\n",
       "      <td>5500</td>\n",
       "      <td>5.27</td>\n",
       "      <td>1.38</td>\n",
       "      <td>0.98</td>\n",
       "      <td>1.42</td>\n",
       "      <td>...</td>\n",
       "      <td>1</td>\n",
       "      <td>1.057692</td>\n",
       "      <td>0.475773</td>\n",
       "      <td>0.626818</td>\n",
       "      <td>2.198972</td>\n",
       "      <td>1</td>\n",
       "      <td>0</td>\n",
       "      <td>0</td>\n",
       "      <td>0</td>\n",
       "      <td>0</td>\n",
       "    </tr>\n",
       "  </tbody>\n",
       "</table>\n",
       "<p>5 rows × 36 columns</p>\n",
       "</div>"
      ],
      "text/plain": [
       "   area  bedroom  first_i_school_dist  first_mrt_dist  first_p_school_dist  \\\n",
       "0  3009        4                 0.49            0.57                 0.82   \n",
       "1  3009        4                 0.49            0.57                 0.82   \n",
       "2   970        2                 1.54            0.54                 0.80   \n",
       "3  1970        2                 1.54            0.54                 0.80   \n",
       "4  1044        2                 1.29            0.82                 0.37   \n",
       "\n",
       "   price   psf  sec_i_school_dist  sec_mrt_dist  sec_p_school_dist  ...  \\\n",
       "0   5300  1.76               3.86          1.21               1.39  ...   \n",
       "1   5300  1.76               3.86          1.21               1.39  ...   \n",
       "2   4000  4.12               1.82          0.61               1.47  ...   \n",
       "3   5200  2.64               1.82          0.61               1.47  ...   \n",
       "4   5500  5.27               1.38          0.98               1.42  ...   \n",
       "\n",
       "   count  dist_to_shops  dist_to_foodcourt  dist_to_supermarket  \\\n",
       "0      1       1.428765           2.134875             0.985758   \n",
       "1      1       1.428765           2.134875             0.985758   \n",
       "2      1       0.633214           0.136767             0.244170   \n",
       "3      1       0.633214           0.136767             0.244170   \n",
       "4      1       1.057692           0.475773             0.626818   \n",
       "\n",
       "   dist_to_downtown  apartment  bungalow  condominium  hdb  terrace_house  \n",
       "0         14.407814          0         0            0    0              1  \n",
       "1         14.407814          0         0            0    0              1  \n",
       "2          1.716227          0         0            1    0              0  \n",
       "3          1.716227          0         0            1    0              0  \n",
       "4          2.198972          1         0            0    0              0  \n",
       "\n",
       "[5 rows x 36 columns]"
      ]
     },
     "execution_count": 1,
     "metadata": {},
     "output_type": "execute_result"
    }
   ],
   "source": [
    "import pandas as pd\n",
    "\n",
    "url = 'https://raw.githubusercontent.com/hzjken/SG-rental-analytics/master/code_and_data/model_data.csv'\n",
    "df = pd.read_csv(url)\n",
    "df.head()"
   ]
  },
  {
   "cell_type": "code",
   "execution_count": 3,
   "metadata": {},
   "outputs": [
    {
     "ename": "ValueError",
     "evalue": "Mixing dicts with non-Series may lead to ambiguous ordering.",
     "output_type": "error",
     "traceback": [
      "\u001b[1;31m---------------------------------------------------------------------------\u001b[0m",
      "\u001b[1;31mValueError\u001b[0m                                Traceback (most recent call last)",
      "\u001b[1;32m<ipython-input-3-a51447d19eb5>\u001b[0m in \u001b[0;36m<module>\u001b[1;34m\u001b[0m\n\u001b[1;32m----> 1\u001b[1;33m \u001b[0mpd\u001b[0m\u001b[1;33m.\u001b[0m\u001b[0mread_json\u001b[0m\u001b[1;33m(\u001b[0m\u001b[1;34m'https://www.rentfaster.ca/api/map.json?e=undefined&beds=&baths=&type=&price_range_adv%5Bfrom%5D=450price_range_adv%5Bfrom%5D=3000&availability=May'\u001b[0m\u001b[1;33m)\u001b[0m\u001b[1;33m\u001b[0m\u001b[1;33m\u001b[0m\u001b[0m\n\u001b[0m",
      "\u001b[1;32m~\\anaconda3\\lib\\site-packages\\pandas\\util\\_decorators.py\u001b[0m in \u001b[0;36mwrapper\u001b[1;34m(*args, **kwargs)\u001b[0m\n\u001b[0;32m    197\u001b[0m                 \u001b[1;32melse\u001b[0m\u001b[1;33m:\u001b[0m\u001b[1;33m\u001b[0m\u001b[1;33m\u001b[0m\u001b[0m\n\u001b[0;32m    198\u001b[0m                     \u001b[0mkwargs\u001b[0m\u001b[1;33m[\u001b[0m\u001b[0mnew_arg_name\u001b[0m\u001b[1;33m]\u001b[0m \u001b[1;33m=\u001b[0m \u001b[0mnew_arg_value\u001b[0m\u001b[1;33m\u001b[0m\u001b[1;33m\u001b[0m\u001b[0m\n\u001b[1;32m--> 199\u001b[1;33m             \u001b[1;32mreturn\u001b[0m \u001b[0mfunc\u001b[0m\u001b[1;33m(\u001b[0m\u001b[1;33m*\u001b[0m\u001b[0margs\u001b[0m\u001b[1;33m,\u001b[0m \u001b[1;33m**\u001b[0m\u001b[0mkwargs\u001b[0m\u001b[1;33m)\u001b[0m\u001b[1;33m\u001b[0m\u001b[1;33m\u001b[0m\u001b[0m\n\u001b[0m\u001b[0;32m    200\u001b[0m \u001b[1;33m\u001b[0m\u001b[0m\n\u001b[0;32m    201\u001b[0m         \u001b[1;32mreturn\u001b[0m \u001b[0mcast\u001b[0m\u001b[1;33m(\u001b[0m\u001b[0mF\u001b[0m\u001b[1;33m,\u001b[0m \u001b[0mwrapper\u001b[0m\u001b[1;33m)\u001b[0m\u001b[1;33m\u001b[0m\u001b[1;33m\u001b[0m\u001b[0m\n",
      "\u001b[1;32m~\\anaconda3\\lib\\site-packages\\pandas\\util\\_decorators.py\u001b[0m in \u001b[0;36mwrapper\u001b[1;34m(*args, **kwargs)\u001b[0m\n\u001b[0;32m    297\u001b[0m                 )\n\u001b[0;32m    298\u001b[0m                 \u001b[0mwarnings\u001b[0m\u001b[1;33m.\u001b[0m\u001b[0mwarn\u001b[0m\u001b[1;33m(\u001b[0m\u001b[0mmsg\u001b[0m\u001b[1;33m,\u001b[0m \u001b[0mFutureWarning\u001b[0m\u001b[1;33m,\u001b[0m \u001b[0mstacklevel\u001b[0m\u001b[1;33m=\u001b[0m\u001b[0mstacklevel\u001b[0m\u001b[1;33m)\u001b[0m\u001b[1;33m\u001b[0m\u001b[1;33m\u001b[0m\u001b[0m\n\u001b[1;32m--> 299\u001b[1;33m             \u001b[1;32mreturn\u001b[0m \u001b[0mfunc\u001b[0m\u001b[1;33m(\u001b[0m\u001b[1;33m*\u001b[0m\u001b[0margs\u001b[0m\u001b[1;33m,\u001b[0m \u001b[1;33m**\u001b[0m\u001b[0mkwargs\u001b[0m\u001b[1;33m)\u001b[0m\u001b[1;33m\u001b[0m\u001b[1;33m\u001b[0m\u001b[0m\n\u001b[0m\u001b[0;32m    300\u001b[0m \u001b[1;33m\u001b[0m\u001b[0m\n\u001b[0;32m    301\u001b[0m         \u001b[1;32mreturn\u001b[0m \u001b[0mwrapper\u001b[0m\u001b[1;33m\u001b[0m\u001b[1;33m\u001b[0m\u001b[0m\n",
      "\u001b[1;32m~\\anaconda3\\lib\\site-packages\\pandas\\io\\json\\_json.py\u001b[0m in \u001b[0;36mread_json\u001b[1;34m(path_or_buf, orient, typ, dtype, convert_axes, convert_dates, keep_default_dates, numpy, precise_float, date_unit, encoding, lines, chunksize, compression, nrows, storage_options)\u001b[0m\n\u001b[0;32m    561\u001b[0m \u001b[1;33m\u001b[0m\u001b[0m\n\u001b[0;32m    562\u001b[0m     \u001b[1;32mwith\u001b[0m \u001b[0mjson_reader\u001b[0m\u001b[1;33m:\u001b[0m\u001b[1;33m\u001b[0m\u001b[1;33m\u001b[0m\u001b[0m\n\u001b[1;32m--> 563\u001b[1;33m         \u001b[1;32mreturn\u001b[0m \u001b[0mjson_reader\u001b[0m\u001b[1;33m.\u001b[0m\u001b[0mread\u001b[0m\u001b[1;33m(\u001b[0m\u001b[1;33m)\u001b[0m\u001b[1;33m\u001b[0m\u001b[1;33m\u001b[0m\u001b[0m\n\u001b[0m\u001b[0;32m    564\u001b[0m \u001b[1;33m\u001b[0m\u001b[0m\n\u001b[0;32m    565\u001b[0m \u001b[1;33m\u001b[0m\u001b[0m\n",
      "\u001b[1;32m~\\anaconda3\\lib\\site-packages\\pandas\\io\\json\\_json.py\u001b[0m in \u001b[0;36mread\u001b[1;34m(self)\u001b[0m\n\u001b[0;32m    692\u001b[0m                 \u001b[0mobj\u001b[0m \u001b[1;33m=\u001b[0m \u001b[0mself\u001b[0m\u001b[1;33m.\u001b[0m\u001b[0m_get_object_parser\u001b[0m\u001b[1;33m(\u001b[0m\u001b[0mself\u001b[0m\u001b[1;33m.\u001b[0m\u001b[0m_combine_lines\u001b[0m\u001b[1;33m(\u001b[0m\u001b[0mdata_lines\u001b[0m\u001b[1;33m)\u001b[0m\u001b[1;33m)\u001b[0m\u001b[1;33m\u001b[0m\u001b[1;33m\u001b[0m\u001b[0m\n\u001b[0;32m    693\u001b[0m         \u001b[1;32melse\u001b[0m\u001b[1;33m:\u001b[0m\u001b[1;33m\u001b[0m\u001b[1;33m\u001b[0m\u001b[0m\n\u001b[1;32m--> 694\u001b[1;33m             \u001b[0mobj\u001b[0m \u001b[1;33m=\u001b[0m \u001b[0mself\u001b[0m\u001b[1;33m.\u001b[0m\u001b[0m_get_object_parser\u001b[0m\u001b[1;33m(\u001b[0m\u001b[0mself\u001b[0m\u001b[1;33m.\u001b[0m\u001b[0mdata\u001b[0m\u001b[1;33m)\u001b[0m\u001b[1;33m\u001b[0m\u001b[1;33m\u001b[0m\u001b[0m\n\u001b[0m\u001b[0;32m    695\u001b[0m         \u001b[0mself\u001b[0m\u001b[1;33m.\u001b[0m\u001b[0mclose\u001b[0m\u001b[1;33m(\u001b[0m\u001b[1;33m)\u001b[0m\u001b[1;33m\u001b[0m\u001b[1;33m\u001b[0m\u001b[0m\n\u001b[0;32m    696\u001b[0m         \u001b[1;32mreturn\u001b[0m \u001b[0mobj\u001b[0m\u001b[1;33m\u001b[0m\u001b[1;33m\u001b[0m\u001b[0m\n",
      "\u001b[1;32m~\\anaconda3\\lib\\site-packages\\pandas\\io\\json\\_json.py\u001b[0m in \u001b[0;36m_get_object_parser\u001b[1;34m(self, json)\u001b[0m\n\u001b[0;32m    714\u001b[0m         \u001b[0mobj\u001b[0m \u001b[1;33m=\u001b[0m \u001b[1;32mNone\u001b[0m\u001b[1;33m\u001b[0m\u001b[1;33m\u001b[0m\u001b[0m\n\u001b[0;32m    715\u001b[0m         \u001b[1;32mif\u001b[0m \u001b[0mtyp\u001b[0m \u001b[1;33m==\u001b[0m \u001b[1;34m\"frame\"\u001b[0m\u001b[1;33m:\u001b[0m\u001b[1;33m\u001b[0m\u001b[1;33m\u001b[0m\u001b[0m\n\u001b[1;32m--> 716\u001b[1;33m             \u001b[0mobj\u001b[0m \u001b[1;33m=\u001b[0m \u001b[0mFrameParser\u001b[0m\u001b[1;33m(\u001b[0m\u001b[0mjson\u001b[0m\u001b[1;33m,\u001b[0m \u001b[1;33m**\u001b[0m\u001b[0mkwargs\u001b[0m\u001b[1;33m)\u001b[0m\u001b[1;33m.\u001b[0m\u001b[0mparse\u001b[0m\u001b[1;33m(\u001b[0m\u001b[1;33m)\u001b[0m\u001b[1;33m\u001b[0m\u001b[1;33m\u001b[0m\u001b[0m\n\u001b[0m\u001b[0;32m    717\u001b[0m \u001b[1;33m\u001b[0m\u001b[0m\n\u001b[0;32m    718\u001b[0m         \u001b[1;32mif\u001b[0m \u001b[0mtyp\u001b[0m \u001b[1;33m==\u001b[0m \u001b[1;34m\"series\"\u001b[0m \u001b[1;32mor\u001b[0m \u001b[0mobj\u001b[0m \u001b[1;32mis\u001b[0m \u001b[1;32mNone\u001b[0m\u001b[1;33m:\u001b[0m\u001b[1;33m\u001b[0m\u001b[1;33m\u001b[0m\u001b[0m\n",
      "\u001b[1;32m~\\anaconda3\\lib\\site-packages\\pandas\\io\\json\\_json.py\u001b[0m in \u001b[0;36mparse\u001b[1;34m(self)\u001b[0m\n\u001b[0;32m    829\u001b[0m \u001b[1;33m\u001b[0m\u001b[0m\n\u001b[0;32m    830\u001b[0m         \u001b[1;32melse\u001b[0m\u001b[1;33m:\u001b[0m\u001b[1;33m\u001b[0m\u001b[1;33m\u001b[0m\u001b[0m\n\u001b[1;32m--> 831\u001b[1;33m             \u001b[0mself\u001b[0m\u001b[1;33m.\u001b[0m\u001b[0m_parse_no_numpy\u001b[0m\u001b[1;33m(\u001b[0m\u001b[1;33m)\u001b[0m\u001b[1;33m\u001b[0m\u001b[1;33m\u001b[0m\u001b[0m\n\u001b[0m\u001b[0;32m    832\u001b[0m \u001b[1;33m\u001b[0m\u001b[0m\n\u001b[0;32m    833\u001b[0m         \u001b[1;32mif\u001b[0m \u001b[0mself\u001b[0m\u001b[1;33m.\u001b[0m\u001b[0mobj\u001b[0m \u001b[1;32mis\u001b[0m \u001b[1;32mNone\u001b[0m\u001b[1;33m:\u001b[0m\u001b[1;33m\u001b[0m\u001b[1;33m\u001b[0m\u001b[0m\n",
      "\u001b[1;32m~\\anaconda3\\lib\\site-packages\\pandas\\io\\json\\_json.py\u001b[0m in \u001b[0;36m_parse_no_numpy\u001b[1;34m(self)\u001b[0m\n\u001b[0;32m   1076\u001b[0m \u001b[1;33m\u001b[0m\u001b[0m\n\u001b[0;32m   1077\u001b[0m         \u001b[1;32mif\u001b[0m \u001b[0morient\u001b[0m \u001b[1;33m==\u001b[0m \u001b[1;34m\"columns\"\u001b[0m\u001b[1;33m:\u001b[0m\u001b[1;33m\u001b[0m\u001b[1;33m\u001b[0m\u001b[0m\n\u001b[1;32m-> 1078\u001b[1;33m             self.obj = DataFrame(\n\u001b[0m\u001b[0;32m   1079\u001b[0m                 \u001b[0mloads\u001b[0m\u001b[1;33m(\u001b[0m\u001b[0mjson\u001b[0m\u001b[1;33m,\u001b[0m \u001b[0mprecise_float\u001b[0m\u001b[1;33m=\u001b[0m\u001b[0mself\u001b[0m\u001b[1;33m.\u001b[0m\u001b[0mprecise_float\u001b[0m\u001b[1;33m)\u001b[0m\u001b[1;33m,\u001b[0m \u001b[0mdtype\u001b[0m\u001b[1;33m=\u001b[0m\u001b[1;32mNone\u001b[0m\u001b[1;33m\u001b[0m\u001b[1;33m\u001b[0m\u001b[0m\n\u001b[0;32m   1080\u001b[0m             )\n",
      "\u001b[1;32m~\\anaconda3\\lib\\site-packages\\pandas\\core\\frame.py\u001b[0m in \u001b[0;36m__init__\u001b[1;34m(self, data, index, columns, dtype, copy)\u001b[0m\n\u001b[0;32m    527\u001b[0m \u001b[1;33m\u001b[0m\u001b[0m\n\u001b[0;32m    528\u001b[0m         \u001b[1;32melif\u001b[0m \u001b[0misinstance\u001b[0m\u001b[1;33m(\u001b[0m\u001b[0mdata\u001b[0m\u001b[1;33m,\u001b[0m \u001b[0mdict\u001b[0m\u001b[1;33m)\u001b[0m\u001b[1;33m:\u001b[0m\u001b[1;33m\u001b[0m\u001b[1;33m\u001b[0m\u001b[0m\n\u001b[1;32m--> 529\u001b[1;33m             \u001b[0mmgr\u001b[0m \u001b[1;33m=\u001b[0m \u001b[0minit_dict\u001b[0m\u001b[1;33m(\u001b[0m\u001b[0mdata\u001b[0m\u001b[1;33m,\u001b[0m \u001b[0mindex\u001b[0m\u001b[1;33m,\u001b[0m \u001b[0mcolumns\u001b[0m\u001b[1;33m,\u001b[0m \u001b[0mdtype\u001b[0m\u001b[1;33m=\u001b[0m\u001b[0mdtype\u001b[0m\u001b[1;33m)\u001b[0m\u001b[1;33m\u001b[0m\u001b[1;33m\u001b[0m\u001b[0m\n\u001b[0m\u001b[0;32m    530\u001b[0m         \u001b[1;32melif\u001b[0m \u001b[0misinstance\u001b[0m\u001b[1;33m(\u001b[0m\u001b[0mdata\u001b[0m\u001b[1;33m,\u001b[0m \u001b[0mma\u001b[0m\u001b[1;33m.\u001b[0m\u001b[0mMaskedArray\u001b[0m\u001b[1;33m)\u001b[0m\u001b[1;33m:\u001b[0m\u001b[1;33m\u001b[0m\u001b[1;33m\u001b[0m\u001b[0m\n\u001b[0;32m    531\u001b[0m             \u001b[1;32mimport\u001b[0m \u001b[0mnumpy\u001b[0m\u001b[1;33m.\u001b[0m\u001b[0mma\u001b[0m\u001b[1;33m.\u001b[0m\u001b[0mmrecords\u001b[0m \u001b[1;32mas\u001b[0m \u001b[0mmrecords\u001b[0m\u001b[1;33m\u001b[0m\u001b[1;33m\u001b[0m\u001b[0m\n",
      "\u001b[1;32m~\\anaconda3\\lib\\site-packages\\pandas\\core\\internals\\construction.py\u001b[0m in \u001b[0;36minit_dict\u001b[1;34m(data, index, columns, dtype)\u001b[0m\n\u001b[0;32m    285\u001b[0m             \u001b[0marr\u001b[0m \u001b[1;32mif\u001b[0m \u001b[1;32mnot\u001b[0m \u001b[0mis_datetime64tz_dtype\u001b[0m\u001b[1;33m(\u001b[0m\u001b[0marr\u001b[0m\u001b[1;33m)\u001b[0m \u001b[1;32melse\u001b[0m \u001b[0marr\u001b[0m\u001b[1;33m.\u001b[0m\u001b[0mcopy\u001b[0m\u001b[1;33m(\u001b[0m\u001b[1;33m)\u001b[0m \u001b[1;32mfor\u001b[0m \u001b[0marr\u001b[0m \u001b[1;32min\u001b[0m \u001b[0marrays\u001b[0m\u001b[1;33m\u001b[0m\u001b[1;33m\u001b[0m\u001b[0m\n\u001b[0;32m    286\u001b[0m         ]\n\u001b[1;32m--> 287\u001b[1;33m     \u001b[1;32mreturn\u001b[0m \u001b[0marrays_to_mgr\u001b[0m\u001b[1;33m(\u001b[0m\u001b[0marrays\u001b[0m\u001b[1;33m,\u001b[0m \u001b[0mdata_names\u001b[0m\u001b[1;33m,\u001b[0m \u001b[0mindex\u001b[0m\u001b[1;33m,\u001b[0m \u001b[0mcolumns\u001b[0m\u001b[1;33m,\u001b[0m \u001b[0mdtype\u001b[0m\u001b[1;33m=\u001b[0m\u001b[0mdtype\u001b[0m\u001b[1;33m)\u001b[0m\u001b[1;33m\u001b[0m\u001b[1;33m\u001b[0m\u001b[0m\n\u001b[0m\u001b[0;32m    288\u001b[0m \u001b[1;33m\u001b[0m\u001b[0m\n\u001b[0;32m    289\u001b[0m \u001b[1;33m\u001b[0m\u001b[0m\n",
      "\u001b[1;32m~\\anaconda3\\lib\\site-packages\\pandas\\core\\internals\\construction.py\u001b[0m in \u001b[0;36marrays_to_mgr\u001b[1;34m(arrays, arr_names, index, columns, dtype, verify_integrity)\u001b[0m\n\u001b[0;32m     78\u001b[0m         \u001b[1;31m# figure out the index, if necessary\u001b[0m\u001b[1;33m\u001b[0m\u001b[1;33m\u001b[0m\u001b[1;33m\u001b[0m\u001b[0m\n\u001b[0;32m     79\u001b[0m         \u001b[1;32mif\u001b[0m \u001b[0mindex\u001b[0m \u001b[1;32mis\u001b[0m \u001b[1;32mNone\u001b[0m\u001b[1;33m:\u001b[0m\u001b[1;33m\u001b[0m\u001b[1;33m\u001b[0m\u001b[0m\n\u001b[1;32m---> 80\u001b[1;33m             \u001b[0mindex\u001b[0m \u001b[1;33m=\u001b[0m \u001b[0mextract_index\u001b[0m\u001b[1;33m(\u001b[0m\u001b[0marrays\u001b[0m\u001b[1;33m)\u001b[0m\u001b[1;33m\u001b[0m\u001b[1;33m\u001b[0m\u001b[0m\n\u001b[0m\u001b[0;32m     81\u001b[0m         \u001b[1;32melse\u001b[0m\u001b[1;33m:\u001b[0m\u001b[1;33m\u001b[0m\u001b[1;33m\u001b[0m\u001b[0m\n\u001b[0;32m     82\u001b[0m             \u001b[0mindex\u001b[0m \u001b[1;33m=\u001b[0m \u001b[0mensure_index\u001b[0m\u001b[1;33m(\u001b[0m\u001b[0mindex\u001b[0m\u001b[1;33m)\u001b[0m\u001b[1;33m\u001b[0m\u001b[1;33m\u001b[0m\u001b[0m\n",
      "\u001b[1;32m~\\anaconda3\\lib\\site-packages\\pandas\\core\\internals\\construction.py\u001b[0m in \u001b[0;36mextract_index\u001b[1;34m(data)\u001b[0m\n\u001b[0;32m    402\u001b[0m \u001b[1;33m\u001b[0m\u001b[0m\n\u001b[0;32m    403\u001b[0m             \u001b[1;32mif\u001b[0m \u001b[0mhave_dicts\u001b[0m\u001b[1;33m:\u001b[0m\u001b[1;33m\u001b[0m\u001b[1;33m\u001b[0m\u001b[0m\n\u001b[1;32m--> 404\u001b[1;33m                 raise ValueError(\n\u001b[0m\u001b[0;32m    405\u001b[0m                     \u001b[1;34m\"Mixing dicts with non-Series may lead to ambiguous ordering.\"\u001b[0m\u001b[1;33m\u001b[0m\u001b[1;33m\u001b[0m\u001b[0m\n\u001b[0;32m    406\u001b[0m                 )\n",
      "\u001b[1;31mValueError\u001b[0m: Mixing dicts with non-Series may lead to ambiguous ordering."
     ]
    }
   ],
   "source": [
    "pd.read_json('https://www.rentfaster.ca/api/map.json?e=undefined&beds=&baths=&type=&price_range_adv%5Bfrom%5D=450price_range_adv%5Bfrom%5D=3000&availability=May')"
   ]
  },
  {
   "cell_type": "code",
   "execution_count": null,
   "metadata": {},
   "outputs": [],
   "source": [
    "price_range_adv%5Bto%5D=2300&price_range_adv%5Bfrom%5D=450"
   ]
  },
  {
   "cell_type": "code",
   "execution_count": null,
   "metadata": {},
   "outputs": [],
   "source": [
    "from bs4 import BeautifulSoup\n",
    "import urllib2\n",
    "import csv\n",
    "\n",
    "url = 'https://www.rentfaster.ca//ab/calgary'\n",
    "html = urllib2.urlopen(url).read()\n",
    "soup = BeautifulSoup(html)\n",
    "table = soup.select_one(\"table.data2_s\")\n",
    "# python3 just use th.text\n",
    "headers = [th.text.encode(\"utf-8\") for th in table.select(\"tr th\")]\n",
    "\n",
    "with open(\"out.csv\", \"w\") as f:\n",
    "    wr = csv.writer(f)\n",
    "    wr.writerow(headers)\n",
    "    wr.writerows([[td.text.encode(\"utf-8\") for td in row.find_all(\"td\")] for row in table.select(\"tr + tr\")])"
   ]
  }
 ],
 "metadata": {
  "interpreter": {
   "hash": "c5e48f84046969b800ff52f6d80523bcd1ca3fb1a99f1449e4197bf6c73dc096"
  },
  "kernelspec": {
   "display_name": "Python 3.8.8 64-bit",
   "language": "python",
   "name": "python3"
  },
  "language_info": {
   "codemirror_mode": {
    "name": "ipython",
    "version": 3
   },
   "file_extension": ".py",
   "mimetype": "text/x-python",
   "name": "python",
   "nbconvert_exporter": "python",
   "pygments_lexer": "ipython3",
   "version": "3.8.8"
  },
  "orig_nbformat": 4
 },
 "nbformat": 4,
 "nbformat_minor": 2
}
