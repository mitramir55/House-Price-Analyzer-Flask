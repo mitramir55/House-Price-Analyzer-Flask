{
 "cells": [
  {
   "cell_type": "code",
   "execution_count": 1,
   "metadata": {},
   "outputs": [],
   "source": [
    "\n",
    "import regex as re\n",
    "import pandas as pd\n",
    "import numpy as np\n",
    "from termcolor import colored\n",
    "from urllib.request import urlopen\n",
    "import json\n",
    "pd.set_option('display.max_columns', None)\n",
    "pd.set_option('display.max_colwidth', None)"
   ]
  },
  {
   "cell_type": "code",
   "execution_count": 2,
   "metadata": {},
   "outputs": [
    {
     "name": "stdout",
     "output_type": "stream",
     "text": [
      "c:\\Users\\Lenovo\\Flask apps\\House-price-prediction\n"
     ]
    }
   ],
   "source": [
    "%pwd \n",
    "%cd c:\\\\Users\\\\Lenovo\\\\Flask apps\\\\House-price-prediction\\\\"
   ]
  },
  {
   "cell_type": "code",
   "execution_count": 15,
   "metadata": {},
   "outputs": [],
   "source": [
    "MAIN_DF_PATH = r'Dataset\\calgary_cleaned_rentals_dataset.csv'\n",
    "df = pd.read_csv(MAIN_DF_PATH)"
   ]
  },
  {
   "cell_type": "code",
   "execution_count": 16,
   "metadata": {},
   "outputs": [],
   "source": [
    "\n",
    "df.dropna(subset=['price', 'sq_feet'], inplace=True)\n",
    "df.reset_index(inplace=True, drop=True)\n",
    "\n",
    "assert len(df.rented.unique()) ==1\n",
    "df.drop(columns=['rented'], inplace=True)\n"
   ]
  },
  {
   "cell_type": "code",
   "execution_count": 17,
   "metadata": {},
   "outputs": [],
   "source": [
    "# handling second rentals --ADD\n",
    "def handle_second_rentals(df, info_cols = ['price', 'sq_feet', 'beds', 'baths']):\n",
    "    \"\"\"\n",
    "    separates residence options that has two listings\n",
    "    creates the second dataset\n",
    "    then renames both dataset's cols to have info_cols names\n",
    "    \"\"\"\n",
    "    info_cols_2 = [col + '2' for col in info_cols]\n",
    "\n",
    "    # check for where at least two second house columns are not null\n",
    "    df_second = df[(~df[info_cols_2[0]].isna())&(~df[info_cols_2[1]].isna())]\n",
    "\n",
    "    df_second = df_second.drop(columns=info_cols)\n",
    "    for col in info_cols:\n",
    "        df_second = df_second.rename(columns={col + '2': col})\n",
    "\n",
    "    df = df.drop(columns=info_cols_2)\n",
    "    return df, df_second"
   ]
  },
  {
   "cell_type": "code",
   "execution_count": null,
   "metadata": {},
   "outputs": [],
   "source": []
  },
  {
   "cell_type": "code",
   "execution_count": 18,
   "metadata": {},
   "outputs": [],
   "source": [
    "df, df_second = handle_second_rentals(df, info_cols = ['price', 'sq_feet', 'beds', 'baths'])"
   ]
  },
  {
   "cell_type": "code",
   "execution_count": 19,
   "metadata": {},
   "outputs": [],
   "source": [
    "df_total = pd.concat([df, df_second], axis=0)\n",
    "df_total.reset_index(inplace=True, drop=True)"
   ]
  },
  {
   "cell_type": "code",
   "execution_count": 20,
   "metadata": {},
   "outputs": [
    {
     "data": {
      "text/plain": [
       "2213"
      ]
     },
     "execution_count": 20,
     "metadata": {},
     "output_type": "execute_result"
    }
   ],
   "source": [
    "len(df_total)"
   ]
  },
  {
   "cell_type": "code",
   "execution_count": null,
   "metadata": {},
   "outputs": [],
   "source": []
  },
  {
   "cell_type": "code",
   "execution_count": 21,
   "metadata": {},
   "outputs": [
    {
     "data": {
      "text/html": [
       "<div>\n",
       "<style scoped>\n",
       "    .dataframe tbody tr th:only-of-type {\n",
       "        vertical-align: middle;\n",
       "    }\n",
       "\n",
       "    .dataframe tbody tr th {\n",
       "        vertical-align: top;\n",
       "    }\n",
       "\n",
       "    .dataframe thead th {\n",
       "        text-align: right;\n",
       "    }\n",
       "</style>\n",
       "<table border=\"1\" class=\"dataframe\">\n",
       "  <thead>\n",
       "    <tr style=\"text-align: right;\">\n",
       "      <th></th>\n",
       "      <th>availability</th>\n",
       "      <th>a</th>\n",
       "      <th>city</th>\n",
       "      <th>community</th>\n",
       "      <th>latitude</th>\n",
       "      <th>longitude</th>\n",
       "      <th>link</th>\n",
       "      <th>type</th>\n",
       "      <th>price</th>\n",
       "      <th>beds</th>\n",
       "      <th>sq_feet</th>\n",
       "      <th>baths</th>\n",
       "      <th>cats</th>\n",
       "      <th>dogs</th>\n",
       "      <th>utility_heat</th>\n",
       "      <th>utility_electricity</th>\n",
       "      <th>utility_water</th>\n",
       "      <th>utility_cable</th>\n",
       "      <th>utility_internet</th>\n",
       "    </tr>\n",
       "  </thead>\n",
       "  <tbody>\n",
       "    <tr>\n",
       "      <th>0</th>\n",
       "      <td>Immediate</td>\n",
       "      <td>2000-01-01</td>\n",
       "      <td>Calgary</td>\n",
       "      <td>Cliff Bungalow</td>\n",
       "      <td>51.036696</td>\n",
       "      <td>-114.074492</td>\n",
       "      <td>/ab/calgary/rentals/apartment/studio/cliff-bungalow/357976</td>\n",
       "      <td>Apartment</td>\n",
       "      <td>525.0</td>\n",
       "      <td>studio</td>\n",
       "      <td>420</td>\n",
       "      <td>1</td>\n",
       "      <td>0</td>\n",
       "      <td>0</td>\n",
       "      <td>1</td>\n",
       "      <td>1</td>\n",
       "      <td>1</td>\n",
       "      <td>0</td>\n",
       "      <td>0</td>\n",
       "    </tr>\n",
       "  </tbody>\n",
       "</table>\n",
       "</div>"
      ],
      "text/plain": [
       "  availability           a     city       community   latitude   longitude  \\\n",
       "0    Immediate  2000-01-01  Calgary  Cliff Bungalow  51.036696 -114.074492   \n",
       "\n",
       "                                                         link       type  \\\n",
       "0  /ab/calgary/rentals/apartment/studio/cliff-bungalow/357976  Apartment   \n",
       "\n",
       "   price    beds sq_feet baths  cats  dogs  utility_heat  utility_electricity  \\\n",
       "0  525.0  studio     420     1     0     0             1                    1   \n",
       "\n",
       "   utility_water  utility_cable  utility_internet  \n",
       "0              1              0                 0  "
      ]
     },
     "execution_count": 21,
     "metadata": {},
     "output_type": "execute_result"
    }
   ],
   "source": [
    "df_total.head(1)"
   ]
  },
  {
   "cell_type": "code",
   "execution_count": 13,
   "metadata": {},
   "outputs": [
    {
     "data": {
      "text/plain": [
       "Index(['availability', 'a', 'city', 'community', 'latitude', 'longitude',\n",
       "       'link', 'type', 'cats', 'dogs', 'sq_feet2', 'price2', 'beds2', 'baths2',\n",
       "       'utility_heat', 'utility_electricity', 'utility_water', 'utility_cable',\n",
       "       'utility_internet', 'sq_feet', 'price', 'beds', 'baths'],\n",
       "      dtype='object')"
      ]
     },
     "execution_count": 13,
     "metadata": {},
     "output_type": "execute_result"
    }
   ],
   "source": [
    "df_total.columns"
   ]
  },
  {
   "cell_type": "code",
   "execution_count": 53,
   "metadata": {},
   "outputs": [
    {
     "data": {
      "text/plain": [
       "180"
      ]
     },
     "execution_count": 53,
     "metadata": {},
     "output_type": "execute_result"
    }
   ],
   "source": [
    "len(df[(~df.price2.isna())&(~df.sq_feet2.isna())&((~df.beds.isna()))&(~df.baths2.isna())])"
   ]
  },
  {
   "cell_type": "code",
   "execution_count": 55,
   "metadata": {},
   "outputs": [],
   "source": []
  },
  {
   "cell_type": "code",
   "execution_count": null,
   "metadata": {},
   "outputs": [],
   "source": []
  },
  {
   "cell_type": "code",
   "execution_count": 29,
   "metadata": {},
   "outputs": [],
   "source": [
    "# --ADD\n",
    "def clean_undefined_dates(df, null_substitute = 'call for availability'):\n",
    "    \"\"\"\n",
    "    call for availability is represented as 3000-01-01 in the dataset\n",
    "    so we replace these dates with a string\n",
    "    \"\"\"\n",
    "    for i in range(len(df)):\n",
    "        try: \n",
    "            df.loc[i, 'a'] = pd.to_datetime(df.loc[i, 'a'], format='%Y-%m-%d')\n",
    "        except: \n",
    "            df.loc[i, 'a'] = null_substitute\n",
    "            df.loc[i, 'availability'] = null_substitute\n",
    "    df.reset_index(inplace=True)\n",
    "    return df\n",
    "\n",
    "\n",
    "df = clean_undefined_dates(df)"
   ]
  },
  {
   "cell_type": "code",
   "execution_count": 35,
   "metadata": {},
   "outputs": [
    {
     "data": {
      "text/html": [
       "<div>\n",
       "<style scoped>\n",
       "    .dataframe tbody tr th:only-of-type {\n",
       "        vertical-align: middle;\n",
       "    }\n",
       "\n",
       "    .dataframe tbody tr th {\n",
       "        vertical-align: top;\n",
       "    }\n",
       "\n",
       "    .dataframe thead th {\n",
       "        text-align: right;\n",
       "    }\n",
       "</style>\n",
       "<table border=\"1\" class=\"dataframe\">\n",
       "  <thead>\n",
       "    <tr style=\"text-align: right;\">\n",
       "      <th></th>\n",
       "      <th>sq_feet</th>\n",
       "      <th>sq_feet2</th>\n",
       "      <th>link</th>\n",
       "      <th>type</th>\n",
       "      <th>price</th>\n",
       "    </tr>\n",
       "  </thead>\n",
       "  <tbody>\n",
       "    <tr>\n",
       "      <th>0</th>\n",
       "      <td>NaN</td>\n",
       "      <td>NaN</td>\n",
       "      <td>/ab/calgary/rentals/apartment/1-bedroom/manchester/468894</td>\n",
       "      <td>Apartment</td>\n",
       "      <td>580.0</td>\n",
       "    </tr>\n",
       "    <tr>\n",
       "      <th>1</th>\n",
       "      <td>NaN</td>\n",
       "      <td>NaN</td>\n",
       "      <td>/ab/calgary/rentals/apartment/studio/downtown/472999</td>\n",
       "      <td>Apartment</td>\n",
       "      <td>580.0</td>\n",
       "    </tr>\n",
       "    <tr>\n",
       "      <th>4</th>\n",
       "      <td>NaN</td>\n",
       "      <td>NaN</td>\n",
       "      <td>/ab/calgary/rentals/apartment/1-bedroom/downtown/477769</td>\n",
       "      <td>Apartment</td>\n",
       "      <td>960.0</td>\n",
       "    </tr>\n",
       "    <tr>\n",
       "      <th>6</th>\n",
       "      <td>NaN</td>\n",
       "      <td>NaN</td>\n",
       "      <td>/ab/calgary/rentals/apartment/1-bedroom/beltline/452842</td>\n",
       "      <td>Apartment</td>\n",
       "      <td>925.0</td>\n",
       "    </tr>\n",
       "    <tr>\n",
       "      <th>8</th>\n",
       "      <td>NaN</td>\n",
       "      <td>NaN</td>\n",
       "      <td>/ab/calgary/rentals/apartment/2-bedrooms/banff-trail/pet-friendly/403379</td>\n",
       "      <td>Apartment</td>\n",
       "      <td>940.0</td>\n",
       "    </tr>\n",
       "  </tbody>\n",
       "</table>\n",
       "</div>"
      ],
      "text/plain": [
       "  sq_feet sq_feet2  \\\n",
       "0     NaN      NaN   \n",
       "1     NaN      NaN   \n",
       "4     NaN      NaN   \n",
       "6     NaN      NaN   \n",
       "8     NaN      NaN   \n",
       "\n",
       "                                                                       link  \\\n",
       "0                 /ab/calgary/rentals/apartment/1-bedroom/manchester/468894   \n",
       "1                      /ab/calgary/rentals/apartment/studio/downtown/472999   \n",
       "4                   /ab/calgary/rentals/apartment/1-bedroom/downtown/477769   \n",
       "6                   /ab/calgary/rentals/apartment/1-bedroom/beltline/452842   \n",
       "8  /ab/calgary/rentals/apartment/2-bedrooms/banff-trail/pet-friendly/403379   \n",
       "\n",
       "        type  price  \n",
       "0  Apartment  580.0  \n",
       "1  Apartment  580.0  \n",
       "4  Apartment  960.0  \n",
       "6  Apartment  925.0  \n",
       "8  Apartment  940.0  "
      ]
     },
     "execution_count": 35,
     "metadata": {},
     "output_type": "execute_result"
    }
   ],
   "source": [
    "df[df.sq_feet.isna()][['sq_feet', 'sq_feet2', 'link', 'type', 'price']].head()"
   ]
  },
  {
   "cell_type": "code",
   "execution_count": 37,
   "metadata": {},
   "outputs": [],
   "source": []
  },
  {
   "cell_type": "code",
   "execution_count": 43,
   "metadata": {},
   "outputs": [
    {
     "data": {
      "text/html": [
       "<div>\n",
       "<style scoped>\n",
       "    .dataframe tbody tr th:only-of-type {\n",
       "        vertical-align: middle;\n",
       "    }\n",
       "\n",
       "    .dataframe tbody tr th {\n",
       "        vertical-align: top;\n",
       "    }\n",
       "\n",
       "    .dataframe thead th {\n",
       "        text-align: right;\n",
       "    }\n",
       "</style>\n",
       "<table border=\"1\" class=\"dataframe\">\n",
       "  <thead>\n",
       "    <tr style=\"text-align: right;\">\n",
       "      <th></th>\n",
       "      <th>price</th>\n",
       "      <th>price2</th>\n",
       "    </tr>\n",
       "  </thead>\n",
       "  <tbody>\n",
       "    <tr>\n",
       "      <th>0</th>\n",
       "      <td>999.0</td>\n",
       "      <td>NaN</td>\n",
       "    </tr>\n",
       "    <tr>\n",
       "      <th>1</th>\n",
       "      <td>974.0</td>\n",
       "      <td>999.0</td>\n",
       "    </tr>\n",
       "    <tr>\n",
       "      <th>2</th>\n",
       "      <td>899.0</td>\n",
       "      <td>950.0</td>\n",
       "    </tr>\n",
       "    <tr>\n",
       "      <th>3</th>\n",
       "      <td>849.0</td>\n",
       "      <td>999.0</td>\n",
       "    </tr>\n",
       "    <tr>\n",
       "      <th>4</th>\n",
       "      <td>800.0</td>\n",
       "      <td>1000.0</td>\n",
       "    </tr>\n",
       "    <tr>\n",
       "      <th>...</th>\n",
       "      <td>...</td>\n",
       "      <td>...</td>\n",
       "    </tr>\n",
       "    <tr>\n",
       "      <th>182</th>\n",
       "      <td>1245.0</td>\n",
       "      <td>2300.0</td>\n",
       "    </tr>\n",
       "    <tr>\n",
       "      <th>183</th>\n",
       "      <td>2700.0</td>\n",
       "      <td>2800.0</td>\n",
       "    </tr>\n",
       "    <tr>\n",
       "      <th>184</th>\n",
       "      <td>1567.0</td>\n",
       "      <td>1839.0</td>\n",
       "    </tr>\n",
       "    <tr>\n",
       "      <th>185</th>\n",
       "      <td>2925.0</td>\n",
       "      <td>3650.0</td>\n",
       "    </tr>\n",
       "    <tr>\n",
       "      <th>186</th>\n",
       "      <td>1849.0</td>\n",
       "      <td>2449.0</td>\n",
       "    </tr>\n",
       "  </tbody>\n",
       "</table>\n",
       "<p>187 rows × 2 columns</p>\n",
       "</div>"
      ],
      "text/plain": [
       "      price  price2\n",
       "0     999.0     NaN\n",
       "1     974.0   999.0\n",
       "2     899.0   950.0\n",
       "3     849.0   999.0\n",
       "4     800.0  1000.0\n",
       "..      ...     ...\n",
       "182  1245.0  2300.0\n",
       "183  2700.0  2800.0\n",
       "184  1567.0  1839.0\n",
       "185  2925.0  3650.0\n",
       "186  1849.0  2449.0\n",
       "\n",
       "[187 rows x 2 columns]"
      ]
     },
     "execution_count": 43,
     "metadata": {},
     "output_type": "execute_result"
    }
   ],
   "source": [
    "df[['price', 'price2']]"
   ]
  },
  {
   "cell_type": "code",
   "execution_count": 27,
   "metadata": {},
   "outputs": [
    {
     "data": {
      "text/plain": [
       "array(['May 01', 'Apr 15', 'Apr 30', 'call for availability', 'May 15',\n",
       "       'Apr 07', 'Apr 17', 'Apr 20', 'Apr 21', 'Apr 28', 'May 06',\n",
       "       'May 07', 'May 09', 'May 10', 'May 13', 'May 20', 'Jun 01',\n",
       "       'Jun 15', 'Jul 01', 'Jul 15', 'Aug 01', 'Sep 01', 'Apr 13',\n",
       "       'Apr 14', 'Jun 30', 'Nov 01', 'Apr 11', 'Apr 09', 'Apr 10',\n",
       "       'Apr 12', 'Apr 16', 'May 26', 'Apr 08', 'May 05', 'May 31',\n",
       "       'Jul 08', 'Oct 01', 'Apr 18', 'May 02', 'May 16', 'Jun 05',\n",
       "       'Sep 24', 'Jun 20', 'Jun 22', 'Jun 02', 'Apr 25', 'May 03',\n",
       "       'May 18', 'May 21', 'May 28', 'Jun 07', 'Jun 16'], dtype=object)"
      ]
     },
     "execution_count": 27,
     "metadata": {},
     "output_type": "execute_result"
    }
   ],
   "source": [
    "df[df.availability != 'Immediate'].availability.unique()\n",
    "#df.loc[:, 'availability_month'] "
   ]
  },
  {
   "cell_type": "code",
   "execution_count": null,
   "metadata": {},
   "outputs": [],
   "source": []
  }
 ],
 "metadata": {
  "interpreter": {
   "hash": "c5e48f84046969b800ff52f6d80523bcd1ca3fb1a99f1449e4197bf6c73dc096"
  },
  "kernelspec": {
   "display_name": "Python 3.8.8 64-bit",
   "language": "python",
   "name": "python3"
  },
  "language_info": {
   "codemirror_mode": {
    "name": "ipython",
    "version": 3
   },
   "file_extension": ".py",
   "mimetype": "text/x-python",
   "name": "python",
   "nbconvert_exporter": "python",
   "pygments_lexer": "ipython3",
   "version": "3.8.8"
  },
  "orig_nbformat": 4
 },
 "nbformat": 4,
 "nbformat_minor": 2
}
